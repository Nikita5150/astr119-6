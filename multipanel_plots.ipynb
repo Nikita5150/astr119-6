{
 "cells": [
  {
   "cell_type": "markdown",
   "metadata": {},
   "source": [
    "##Making multipanel plots with matplotlib"
   ]
  },
  {
   "cell_type": "code",
   "execution_count": null,
   "metadata": {},
   "outputs": [],
   "source": [
    "%matplotlib inline          \n",
    "import numpy as np\n",
    "import matplotlib.pyplot as plt  #imports numpy and matplotlib"
   ]
  },
  {
   "cell_type": "code",
   "execution_count": null,
   "metadata": {},
   "outputs": [],
   "source": [
    "x = np.linspace(0,2*np.pi,100)   # a 100 values of x=0.2*pi\n",
    "print(x[-1],2*np.pi)\n",
    "\n",
    "y = np.sin(x)\n",
    "z = np.cos(x)\n",
    "w = np.sin(4*x)\n",
    "v = np.cos(4*x)"
   ]
  },
  {
   "cell_type": "code",
   "execution_count": null,
   "metadata": {},
   "outputs": [],
   "source": [
    "#call subplots to generate a mulipnael figure. This means 1 row, 2 columns of figures\n",
    "f, axarr = plt.subplots(1,2)\n",
    "#treat axarr as an array, from left to right\n",
    "\n",
    "#first panel\n",
    "axarr[0].plot(x,y)\n",
    "axarr[0].set_xlabel('x')\n",
    "axarr[0].set_ylabel('sin(x)')\n",
    "axarr[0].set_title(r'$\\sin(x))$')\n",
    "#second panel\n",
    "axarr[1].plot(x,z)\n",
    "axarr[1].set_xlabel('x')\n",
    "axarr[1].set_ylabel('cos(x)')\n",
    "axarr[1].set_title(r'$\\cos(x))$')\n",
    "\n",
    "#We can use 'subplots_adjust()' function to adjust spacing\n",
    "f.subplots_adjust(wspace=0.4)\n",
    "\n",
    "#fix the axis ratio\n",
    "#there are two possible options\n",
    "axarr[0].set_aspect('equal')      #make the ratio of the units equal (orthonorme)\n",
    "axarr[1].set_aspect(np.pi)        #make a square by setting the aspect to be the ratio of the unit range"
   ]
  },
  {
   "cell_type": "code",
   "execution_count": null,
   "metadata": {},
   "outputs": [],
   "source": [
    "#adjust the size of the figure\n",
    "fig = plt.figure(figsize=(6,6))   # 6 by 6 inch figure\n",
    "\n",
    "plt.plot(x, y, label=r'$y = \\sin(x)$')    #add a label to the line\n",
    "plt.plot(x, z, label=r'$y = \\cos(x)$')    #add a label to the 2nd line\n",
    "plt.plot(x, w, label=r'$y = \\sin(4x)$')   #add a label to the 3rd line\n",
    "plt.plot(x, v, label=r'$y = \\cos(4x)$')   #add a label to the 4th line\n",
    "\n",
    "plt.xlabel(r'$x$')         #note set_xlabel vs xlabel\n",
    "plt.ylabel(r'$y(x)$')\n",
    "plt.xlim([0,2*np.pi])\n",
    "plt.ylim([-1.2,1.2])      #limits y range from -1.2 to 1.2\n",
    "plt.legend(loc=1,framealpha=0.95)   #add a legend with a semi-transparent frame in the upper RH corner\n",
    "\n",
    "#fix the axis ratio\n",
    "plt.gca().set_aspect(np.pi/1.2)   #use \"gca\" to get current axiss"
   ]
  },
  {
   "cell_type": "markdown",
   "metadata": {},
   "source": [
    "## Markdown"
   ]
  },
  {
   "cell_type": "code",
   "execution_count": null,
   "metadata": {},
   "outputs": [],
   "source": []
  }
 ],
 "metadata": {
  "kernelspec": {
   "display_name": "Python 3",
   "language": "python",
   "name": "python3"
  },
  "language_info": {
   "codemirror_mode": {
    "name": "ipython",
    "version": 3
   },
   "file_extension": ".py",
   "mimetype": "text/x-python",
   "name": "python",
   "nbconvert_exporter": "python",
   "pygments_lexer": "ipython3",
   "version": "3.6.5"
  }
 },
 "nbformat": 4,
 "nbformat_minor": 2
}
